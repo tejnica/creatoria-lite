{
  "cells": [
    {
      "cell_type": "code",
      "execution_count": null,
      "id": "a405adc4",
      "metadata": {
        "id": "a405adc4"
      },
      "outputs": [],
      "source": [
        "%%html\n",
        "<a href=\"https://colab.research.google.com/github/tejnica/creatoria-lite/blob/main/run_demo.py\" target=\"_blank\">\n",
        "  <img src=\"https://colab.research.google.com/assets/colab-badge.svg\" alt=\"Open In Colab\"/>\n",
        "</a>\n"
      ]
    },
    {
      "cell_type": "code",
      "execution_count": null,
      "id": "4c151c9d",
      "metadata": {
        "id": "4c151c9d"
      },
      "outputs": [],
      "source": [
        "# 📌 Creatoria-lite: minimal open-source design optimizer\n",
        "#\n",
        "# YAML → QUBO → Simulated Annealing → CSV → Pareto\n",
        "#\n",
        "# - 🔧 Binary options: `cell_thickness`, `fin_height`\n",
        "# - 🎯 Objectives: maximize thermal conductivity (−λ), minimize mass\n",
        "# - 🧊 Solver: `dwave-neal` (Simulated Annealing)\n",
        "#\n",
        "# Output: `results.csv`, Pareto chart `pareto.png`\n"
      ]
    },
    {
      "cell_type": "code",
      "execution_count": null,
      "id": "27b3ff85",
      "metadata": {
        "id": "27b3ff85"
      },
      "outputs": [],
      "source": [
        "!pip install -q pyqubo dwave-neal pymoo matplotlib pyyaml pandas\n"
      ]
    },
    {
      "cell_type": "code",
      "execution_count": null,
      "id": "5136c8a1",
      "metadata": {
        "id": "5136c8a1"
      },
      "outputs": [],
      "source": [
        "from pyqubo import Binary\n",
        "import pandas as pd\n",
        "import yaml\n",
        "from neal import SimulatedAnnealingSampler\n",
        "import matplotlib.pyplot as plt\n",
        "\n",
        "# Build QUBO\n",
        "def build_qubo(path='contradiction.yaml'):\n",
        "    spec = yaml.safe_load(open(path))\n",
        "    H = 0\n",
        "    binaries = {}\n",
        "    for name, cfg in spec[\"options\"].items():\n",
        "        x = Binary(name)\n",
        "        binaries[name] = x\n",
        "        H += cfg[\"weight\"] * x + abs(cfg[\"effect_lambda\"]) * x\n",
        "    Q, _ = H.compile().to_qubo()\n",
        "    return Q, binaries, spec\n",
        "\n",
        "# Solve QUBO\n",
        "def solve(n_reads=500):\n",
        "    Q, binaries, spec = build_qubo()\n",
        "    sampler = SimulatedAnnealingSampler()\n",
        "    response = sampler.sample_qubo(Q, num_reads=n_reads, num_sweeps=2000)\n",
        "\n",
        "    records = []\n",
        "    var_order = list(binaries.keys())\n",
        "\n",
        "    for sample, _ in zip(response.record.sample, response.record.energy):\n",
        "        sel = dict(zip(var_order, sample))\n",
        "        lambda_neg = 0\n",
        "        mass = 0\n",
        "        for name, bit in sel.items():\n",
        "            cfg = spec[\"options\"][name]\n",
        "            lambda_neg += cfg[\"effect_lambda\"] * bit\n",
        "            mass += cfg[\"weight\"] * bit\n",
        "        records.append({\"lambda_neg\": lambda_neg, \"mass\": mass})\n",
        "\n",
        "    df = pd.DataFrame(records)\n",
        "    df.to_csv(\"results.csv\", index=False)\n",
        "    return df\n",
        "\n",
        "# Plot Pareto\n",
        "def plot():\n",
        "    df = pd.read_csv(\"results.csv\")\n",
        "    df = df.drop_duplicates()\n",
        "\n",
        "    pareto = df.sort_values(['lambda_neg', 'mass'], ascending=[True, True])\n",
        "    pareto_front = [pareto.iloc[0]]\n",
        "    for i in range(1, len(pareto)):\n",
        "        if pareto.iloc[i]['mass'] < pareto_front[-1]['mass']:\n",
        "            pareto_front.append(pareto.iloc[i])\n",
        "    pareto_front = pd.DataFrame(pareto_front)\n",
        "\n",
        "    plt.figure(figsize=(6, 5))\n",
        "    plt.scatter(df[\"lambda_neg\"], df[\"mass\"], color=\"orange\", alpha=0.8, label=\"Candidates\", marker=\"*\")\n",
        "    plt.plot(pareto_front[\"lambda_neg\"], pareto_front[\"mass\"], color=\"black\", label=\"Pareto front\")\n",
        "    plt.xlabel(\"-lambda\")\n",
        "    plt.ylabel(\"mass\")\n",
        "    plt.grid(True)\n",
        "    plt.tight_layout()\n",
        "    plt.savefig(\"pareto.png\")\n",
        "\n",
        "# Main\n",
        "df = solve()\n",
        "plot()\n",
        "df.drop_duplicates()\n"
      ]
    },
    {
      "cell_type": "code",
      "execution_count": null,
      "id": "ebaedc19",
      "metadata": {
        "id": "ebaedc19"
      },
      "outputs": [],
      "source": [
        "from IPython.display import Image, display\n",
        "display(Image(\"pareto.png\"))\n"
      ]
    },
    {
      "cell_type": "code",
      "execution_count": null,
      "id": "217dc729",
      "metadata": {
        "id": "217dc729"
      },
      "outputs": [],
      "source": [
        "with open(\"contradiction.yaml\", \"w\") as f:\n",
        "    f.write(\"\"\"name: demo\n",
        "objectives:\n",
        "  - id: lambda_neg\n",
        "    description: \"минус теплопроводность\"\n",
        "  - id: mass\n",
        "    description: \"масса\"\n",
        "options:\n",
        "  cell_thickness:\n",
        "    bits: 1\n",
        "    weight: 80\n",
        "    effect_lambda: -0.9\n",
        "  fin_height:\n",
        "    bits: 1\n",
        "    weight: 60\n",
        "    effect_lambda: -0.7\n",
        "\"\"\")\n"
      ]
    }
  ],
  "metadata": {
    "colab": {
      "provenance": []
    }
  },
  "nbformat": 4,
  "nbformat_minor": 5
}